{
  "nbformat": 4,
  "nbformat_minor": 0,
  "metadata": {
    "kernelspec": {
      "display_name": "Environment (conda_tensorflow_p36)",
      "language": "python",
      "name": "conda_tensorflow_p36"
    },
    "language_info": {
      "codemirror_mode": {
        "name": "ipython",
        "version": 3
      },
      "file_extension": ".py",
      "mimetype": "text/x-python",
      "name": "python",
      "nbconvert_exporter": "python",
      "pygments_lexer": "ipython3",
      "version": "3.6.5"
    },
    "colab": {
      "provenance": []
    }
  },
  "cells": [
    {
      "cell_type": "markdown",
      "metadata": {
        "id": "iRcvq_zfDrPy"
      },
      "source": [
        "# **1000-719bMSB Modeling of Complex Biological Systems**\n",
        "# **Deep Neural Network: Supervised Learning**"
      ]
    },
    {
      "cell_type": "markdown",
      "metadata": {
        "id": "DN7EuG-SHbeP"
      },
      "source": [
        "### Basic python and pandas\n",
        "https://www.kaggle.com/lavanyashukla01/pandas-numpy-python-cheatsheet\n",
        "\n",
        "https://www.utc.fr/~jlaforet/Suppl/python-cheatsheets.pdf"
      ]
    },
    {
      "cell_type": "markdown",
      "metadata": {
        "id": "pfxIbBhOHbeQ"
      },
      "source": [
        "List comprehensions are a concise way to create new lists from existing ones."
      ]
    },
    {
      "cell_type": "code",
      "metadata": {
        "id": "oz8gWF2LHbeR",
        "colab": {
          "base_uri": "https://localhost:8080/"
        },
        "outputId": "966015aa-2aa8-4bba-c7f4-e6de1aa0fd17"
      },
      "source": [
        "list1 = list(range(0,10))\n",
        "print(list1)"
      ],
      "execution_count": null,
      "outputs": [
        {
          "output_type": "stream",
          "name": "stdout",
          "text": [
            "[0, 1, 2, 3, 4, 5, 6, 7, 8, 9]\n"
          ]
        }
      ]
    },
    {
      "cell_type": "code",
      "metadata": {
        "id": "mJiU1JEiHbeU",
        "colab": {
          "base_uri": "https://localhost:8080/"
        },
        "outputId": "b9f9489f-600b-42f1-87cb-39dc97d82275"
      },
      "source": [
        "list1[0] # A vector in R starts with an index of 1. In Python, 0."
      ],
      "execution_count": null,
      "outputs": [
        {
          "output_type": "execute_result",
          "data": {
            "text/plain": [
              "0"
            ]
          },
          "metadata": {},
          "execution_count": 25
        }
      ]
    },
    {
      "cell_type": "code",
      "metadata": {
        "id": "Vl7RXikqHbeY",
        "colab": {
          "base_uri": "https://localhost:8080/"
        },
        "outputId": "438da413-bd3f-413b-b0b8-ad88e4ac87e3"
      },
      "source": [
        "list1[2:5]"
      ],
      "execution_count": null,
      "outputs": [
        {
          "output_type": "execute_result",
          "data": {
            "text/plain": [
              "[2, 3, 4]"
            ]
          },
          "metadata": {},
          "execution_count": 26
        }
      ]
    },
    {
      "cell_type": "code",
      "metadata": {
        "id": "iX3C97jmHbeb",
        "colab": {
          "base_uri": "https://localhost:8080/"
        },
        "outputId": "16d5df23-e331-48f9-e3b9-820dd8368e21"
      },
      "source": [
        "list2 = []\n",
        "for i in list1:\n",
        "    list2.append(i+1)\n",
        "\n",
        "print(list2)"
      ],
      "execution_count": null,
      "outputs": [
        {
          "output_type": "stream",
          "name": "stdout",
          "text": [
            "[1, 2, 3, 4, 5, 6, 7, 8, 9, 10]\n"
          ]
        }
      ]
    },
    {
      "cell_type": "code",
      "metadata": {
        "id": "rJK5NqugHbee",
        "colab": {
          "base_uri": "https://localhost:8080/"
        },
        "outputId": "bce8b74e-24a3-45b4-b55b-a894ff21ef8a"
      },
      "source": [
        "list3 = [i+1 for i in list1]\n",
        "\n",
        "print(list3)"
      ],
      "execution_count": null,
      "outputs": [
        {
          "output_type": "stream",
          "name": "stdout",
          "text": [
            "[1, 2, 3, 4, 5, 6, 7, 8, 9, 10]\n"
          ]
        }
      ]
    },
    {
      "cell_type": "markdown",
      "metadata": {
        "id": "u9NDdQCL90f4"
      },
      "source": [
        "# Classification of MNIST using densely connected layers"
      ]
    },
    {
      "cell_type": "markdown",
      "metadata": {
        "id": "d7JqNYf_90f8"
      },
      "source": [
        "We are going to use the Keras library to implement a neural network that can classify handwritten digits - in just a few lines of code.\n",
        "\n",
        "First we load and inspect the data. The dataset is split into training and test data."
      ]
    },
    {
      "cell_type": "code",
      "metadata": {
        "id": "wHVW18Pb90f-"
      },
      "source": [
        "import numpy as np\n",
        "import tensorflow.keras as keras\n",
        "import matplotlib.pyplot as plt"
      ],
      "execution_count": null,
      "outputs": []
    },
    {
      "cell_type": "code",
      "metadata": {
        "colab": {
          "base_uri": "https://localhost:8080/"
        },
        "id": "N4TkOHpr3LXF",
        "outputId": "32215b29-5d56-4c0c-f55a-a7bef455eabe"
      },
      "source": [
        "import tensorflow as tf\n",
        "print(tf.__version__)\n",
        "tf.compat.v1.disable_eager_execution()"
      ],
      "execution_count": null,
      "outputs": [
        {
          "output_type": "stream",
          "name": "stdout",
          "text": [
            "2.8.0\n"
          ]
        }
      ]
    },
    {
      "cell_type": "code",
      "metadata": {
        "id": "adVyTa1590gD"
      },
      "source": [
        "(train_images, train_labels), (test_images, test_labels) = keras.datasets.mnist.load_data()"
      ],
      "execution_count": null,
      "outputs": []
    },
    {
      "cell_type": "code",
      "metadata": {
        "id": "hWb3K_Vh90gG",
        "colab": {
          "base_uri": "https://localhost:8080/"
        },
        "outputId": "77ad2e70-4f04-48ed-ff66-8b1ecb2ec076"
      },
      "source": [
        "train_images.shape"
      ],
      "execution_count": null,
      "outputs": [
        {
          "output_type": "execute_result",
          "data": {
            "text/plain": [
              "(60000, 28, 28)"
            ]
          },
          "metadata": {},
          "execution_count": 32
        }
      ]
    },
    {
      "cell_type": "code",
      "metadata": {
        "id": "pMspnFvU90gL",
        "colab": {
          "base_uri": "https://localhost:8080/"
        },
        "outputId": "7383dd77-ef43-402c-cbb7-797d593da6c0"
      },
      "source": [
        "train_labels.shape"
      ],
      "execution_count": null,
      "outputs": [
        {
          "output_type": "execute_result",
          "data": {
            "text/plain": [
              "(60000,)"
            ]
          },
          "metadata": {},
          "execution_count": 33
        }
      ]
    },
    {
      "cell_type": "code",
      "metadata": {
        "id": "dEF5tdkE90gQ",
        "colab": {
          "base_uri": "https://localhost:8080/"
        },
        "outputId": "4fb165c1-f5cf-4f1f-8d61-23b9808bc199"
      },
      "source": [
        "test_images.shape"
      ],
      "execution_count": null,
      "outputs": [
        {
          "output_type": "execute_result",
          "data": {
            "text/plain": [
              "(10000, 28, 28)"
            ]
          },
          "metadata": {},
          "execution_count": 34
        }
      ]
    },
    {
      "cell_type": "code",
      "metadata": {
        "id": "nBrXLCoM90gT",
        "colab": {
          "base_uri": "https://localhost:8080/"
        },
        "outputId": "6fa0ef70-eccd-4950-c001-abee2c32b50b"
      },
      "source": [
        "test_labels.shape"
      ],
      "execution_count": null,
      "outputs": [
        {
          "output_type": "execute_result",
          "data": {
            "text/plain": [
              "(10000,)"
            ]
          },
          "metadata": {},
          "execution_count": 35
        }
      ]
    },
    {
      "cell_type": "markdown",
      "metadata": {
        "id": "M-rbn92390gW"
      },
      "source": [
        "Let's plot one of the digits and the corresponding label."
      ]
    },
    {
      "cell_type": "code",
      "metadata": {
        "id": "6w_vDgbE90gX",
        "colab": {
          "base_uri": "https://localhost:8080/",
          "height": 292
        },
        "outputId": "9f805ff1-96f8-4fff-9f8d-565b072b8ccc"
      },
      "source": [
        "print('Label of element 0:',train_labels[1])\n",
        "plt.matshow(train_images[1], cmap='gray')\n",
        "plt.show()"
      ],
      "execution_count": null,
      "outputs": [
        {
          "output_type": "stream",
          "name": "stdout",
          "text": [
            "Label of element 0: 0\n"
          ]
        },
        {
          "output_type": "display_data",
          "data": {
            "text/plain": [
              "<Figure size 288x288 with 1 Axes>"
            ],
            "image/png": "[encoded data removed]"
          },
          "metadata": {
            "needs_background": "light"
          }
        }
      ]
    },
    {
      "cell_type": "markdown",
      "metadata": {
        "id": "FTVLHSA190gb"
      },
      "source": [
        "In this step we define the neural network. ReLu is an activation function defined as f(x) = max(0,x).\n",
        "\n",
        "Softmax activation function is normalized such that the sum of all outputs is equal 1."
      ]
    },
    {
      "cell_type": "code",
      "metadata": {
        "id": "mqY_gwMr90gc"
      },
      "source": [
        "from tensorflow.keras import layers\n",
        "from tensorflow.keras import models\n",
        "model = models.Sequential()\n",
        "model.add(layers.Dense(512, activation='relu', input_shape=(28 * 28,)))\n",
        "model.add(layers.Dense(10, activation='softmax'))"
      ],
      "execution_count": null,
      "outputs": []
    },
    {
      "cell_type": "markdown",
      "metadata": {
        "id": "i9nrmldP90gf"
      },
      "source": [
        "With compile we tell the network which optimizer and loss function to use. Optimizer specifies the particular implementation of the gradient-descent, e.g. how it adapts the learning rate. 'Metrics' specifies the output during the training."
      ]
    },
    {
      "cell_type": "code",
      "metadata": {
        "id": "tdu0MLH290gg"
      },
      "source": [
        "model.compile(optimizer='rmsprop',\n",
        "loss='mean_squared_error',\n",
        "metrics=['accuracy'])"
      ],
      "execution_count": null,
      "outputs": []
    },
    {
      "cell_type": "code",
      "metadata": {
        "id": "WMdqhvof90gl",
        "colab": {
          "base_uri": "https://localhost:8080/"
        },
        "outputId": "14a07557-2e94-404e-c6d4-832640eb9b18"
      },
      "source": [
        "model.summary()"
      ],
      "execution_count": null,
      "outputs": [
        {
          "output_type": "stream",
          "name": "stdout",
          "text": [
            "Model: \"sequential_1\"\n",
            "_________________________________________________________________\n",
            " Layer (type)                Output Shape              Param #   \n",
            "=================================================================\n",
            " dense_2 (Dense)             (None, 512)               401920    \n",
            "                                                                 \n",
            " dense_3 (Dense)             (None, 10)                5130      \n",
            "                                                                 \n",
            "=================================================================\n",
            "Total params: 407,050\n",
            "Trainable params: 407,050\n",
            "Non-trainable params: 0\n",
            "_________________________________________________________________\n"
          ]
        }
      ]
    },
    {
      "cell_type": "markdown",
      "metadata": {
        "id": "DZFFV7Du90gp"
      },
      "source": [
        "We are using a densely connected network, so we have to flatten the images.  \n",
        "Input values should be in the range (0,1) for fast convergence.  "
      ]
    },
    {
      "cell_type": "code",
      "metadata": {
        "id": "e7Teo4t390gq"
      },
      "source": [
        "train_images_flat = train_images.reshape((60000, 28 * 28))\n",
        "train_images_flat = train_images_flat.astype('float32') / 255\n",
        "test_images_flat = test_images.reshape((10000, 28 * 28))\n",
        "test_images_flat = test_images_flat.astype('float32') / 255"
      ],
      "execution_count": null,
      "outputs": []
    },
    {
      "cell_type": "markdown",
      "metadata": {
        "id": "9-ZezQqg90gt"
      },
      "source": [
        "Convert the labels to a 'one-hot' coding."
      ]
    },
    {
      "cell_type": "code",
      "metadata": {
        "id": "EyfrnYON90gu"
      },
      "source": [
        "from tensorflow.keras.utils import to_categorical\n",
        "train_labels = to_categorical(train_labels)\n",
        "test_labels = to_categorical(test_labels)"
      ],
      "execution_count": null,
      "outputs": []
    },
    {
      "cell_type": "code",
      "metadata": {
        "id": "wHdLduM890gx",
        "colab": {
          "base_uri": "https://localhost:8080/"
        },
        "outputId": "f6a39a89-5d44-4293-be3d-b9fb23eba166"
      },
      "source": [
        "train_images.reshape((60000,28*28)).shape"
      ],
      "execution_count": null,
      "outputs": [
        {
          "output_type": "execute_result",
          "data": {
            "text/plain": [
              "(60000, 784)"
            ]
          },
          "metadata": {},
          "execution_count": 42
        }
      ]
    },
    {
      "cell_type": "code",
      "metadata": {
        "id": "7cU9WW_O90g0",
        "colab": {
          "base_uri": "https://localhost:8080/"
        },
        "outputId": "7de76288-7e49-49b0-c860-33023929c4a7"
      },
      "source": [
        "train_labels[0]"
      ],
      "execution_count": null,
      "outputs": [
        {
          "output_type": "execute_result",
          "data": {
            "text/plain": [
              "array([0., 0., 0., 0., 0., 1., 0., 0., 0., 0.], dtype=float32)"
            ]
          },
          "metadata": {},
          "execution_count": 43
        }
      ]
    },
    {
      "cell_type": "code",
      "metadata": {
        "colab": {
          "base_uri": "https://localhost:8080/",
          "height": 275
        },
        "id": "PsJmG1CSuy5_",
        "outputId": "46f3addc-e630-407f-a212-b79084193cc7"
      },
      "source": [
        "plt.matshow(train_images[0], cmap='gray')\n",
        "plt.show()"
      ],
      "execution_count": null,
      "outputs": [
        {
          "output_type": "display_data",
          "data": {
            "text/plain": [
              "<Figure size 288x288 with 1 Axes>"
            ],
            "image/png": "[encoded data removed]"
          },
          "metadata": {
            "needs_background": "light"
          }
        }
      ]
    },
    {
      "cell_type": "code",
      "metadata": {
        "id": "mZ2fge4C90g6",
        "colab": {
          "base_uri": "https://localhost:8080/"
        },
        "outputId": "366ffd4a-277b-4bec-96bb-5670eabb9bea"
      },
      "source": [
        "model.fit(train_images_flat, train_labels, epochs=5, batch_size=128)"
      ],
      "execution_count": null,
      "outputs": [
        {
          "output_type": "stream",
          "name": "stdout",
          "text": [
            "Train on 60000 samples\n",
            "Epoch 1/5\n",
            "60000/60000 [==============================] - 4s 70us/sample - loss: 0.0121 - accuracy: 0.9228\n",
            "Epoch 2/5\n",
            "60000/60000 [==============================] - 4s 68us/sample - loss: 0.0054 - accuracy: 0.9661\n",
            "Epoch 3/5\n",
            "60000/60000 [==============================] - 4s 69us/sample - loss: 0.0037 - accuracy: 0.9773\n",
            "Epoch 4/5\n",
            "60000/60000 [==============================] - 4s 69us/sample - loss: 0.0028 - accuracy: 0.9826\n",
            "Epoch 5/5\n",
            "60000/60000 [==============================] - 4s 69us/sample - loss: 0.0022 - accuracy: 0.9867\n"
          ]
        },
        {
          "output_type": "execute_result",
          "data": {
            "text/plain": [
              "<keras.callbacks.History at 0x7fc444fb6950>"
            ]
          },
          "metadata": {},
          "execution_count": 45
        }
      ]
    },
    {
      "cell_type": "markdown",
      "metadata": {
        "id": "R8X3RxW690g9"
      },
      "source": [
        "Let's check the performance on the test set. If the accuracy is less than the training accuracy, then we might be overfitting!"
      ]
    },
    {
      "cell_type": "code",
      "metadata": {
        "id": "NR4czZc490g-",
        "colab": {
          "base_uri": "https://localhost:8080/"
        },
        "outputId": "8c68f6d2-ed62-4722-8a1b-5af072bf17fc"
      },
      "source": [
        "test_loss, test_acc = model.evaluate(test_images_flat, test_labels)\n",
        "print('test_acc:', test_acc)"
      ],
      "execution_count": null,
      "outputs": [
        {
          "output_type": "stream",
          "name": "stderr",
          "text": [
            "/usr/local/lib/python3.7/dist-packages/keras/engine/training_v1.py:2057: UserWarning: `Model.state_updates` will be removed in a future version. This property should not be used in TensorFlow 2.0, as `updates` are applied automatically.\n",
            "  updates = self.state_updates\n"
          ]
        },
        {
          "output_type": "stream",
          "name": "stdout",
          "text": [
            "test_acc: 0.9787\n"
          ]
        }
      ]
    },
    {
      "cell_type": "markdown",
      "metadata": {
        "id": "n92BHEB890hC"
      },
      "source": [
        "We can also find the predictions for a selection of input images."
      ]
    },
    {
      "cell_type": "code",
      "metadata": {
        "id": "ZHNb7AQb90hD",
        "colab": {
          "base_uri": "https://localhost:8080/"
        },
        "outputId": "cf532948-5b10-43fd-c933-4ff5c5e883b6"
      },
      "source": [
        "predictions = model.predict(train_images_flat[:10])"
      ],
      "execution_count": null,
      "outputs": [
        {
          "output_type": "stream",
          "name": "stderr",
          "text": [
            "/usr/local/lib/python3.7/dist-packages/keras/engine/training_v1.py:2079: UserWarning: `Model.state_updates` will be removed in a future version. This property should not be used in TensorFlow 2.0, as `updates` are applied automatically.\n",
            "  updates=self.state_updates,\n"
          ]
        }
      ]
    },
    {
      "cell_type": "code",
      "metadata": {
        "id": "c1hEHlN990hG",
        "colab": {
          "base_uri": "https://localhost:8080/",
          "height": 327
        },
        "outputId": "42156d40-8080-40bf-fd20-e379444fcde7"
      },
      "source": [
        "img_num = 3\n",
        "print(predictions[img_num])\n",
        "print(train_labels[img_num])\n",
        "plt.matshow(train_images[img_num], cmap='gray')\n",
        "plt.show()"
      ],
      "execution_count": null,
      "outputs": [
        {
          "output_type": "stream",
          "name": "stdout",
          "text": [
            "[2.9208720e-06 9.9882871e-01 2.2550708e-05 7.5981325e-06 6.5178123e-05\n",
            " 9.3093822e-06 2.0532134e-06 5.6082796e-04 4.9287087e-04 7.9039510e-06]\n",
            "[0. 1. 0. 0. 0. 0. 0. 0. 0. 0.]\n"
          ]
        },
        {
          "output_type": "display_data",
          "data": {
            "text/plain": [
              "<Figure size 288x288 with 1 Axes>"
            ],
            "image/png": "[encoded data removed]"
          },
          "metadata": {
            "needs_background": "light"
          }
        }
      ]
    },
    {
      "cell_type": "code",
      "metadata": {
        "colab": {
          "base_uri": "https://localhost:8080/"
        },
        "id": "-JC3OTdawD9B",
        "outputId": "93792e11-7092-4e86-8072-537a5191e4ce"
      },
      "source": [
        "train_labels"
      ],
      "execution_count": null,
      "outputs": [
        {
          "output_type": "execute_result",
          "data": {
            "text/plain": [
              "array([[0., 0., 0., ..., 0., 0., 0.],\n",
              "       [1., 0., 0., ..., 0., 0., 0.],\n",
              "       [0., 0., 0., ..., 0., 0., 0.],\n",
              "       ...,\n",
              "       [0., 0., 0., ..., 0., 0., 0.],\n",
              "       [0., 0., 0., ..., 0., 0., 0.],\n",
              "       [0., 0., 0., ..., 0., 1., 0.]], dtype=float32)"
            ]
          },
          "metadata": {},
          "execution_count": 49
        }
      ]
    },
    {
      "cell_type": "markdown",
      "metadata": {
        "id": "RmGZFxLr90hM"
      },
      "source": [
        "# Classification of MNIST using convolutional layers"
      ]
    },
    {
      "cell_type": "markdown",
      "metadata": {
        "id": "9eY9pgI790hP"
      },
      "source": [
        "We have build a classifier for handwritten images only using densely connected layers. Let's see if we can do better using convolutional layers!\n",
        "\n",
        "First define the convolutional layers."
      ]
    },
    {
      "cell_type": "code",
      "metadata": {
        "id": "_WWBOt5t90hR"
      },
      "source": [
        "model2 = models.Sequential()\n",
        "model2.add(layers.Conv2D(32, (3, 3), activation='relu', input_shape=(28, 28, 1)))\n",
        "model2.add(layers.MaxPooling2D((2, 2)))\n",
        "model2.add(layers.Conv2D(64, (3, 3), activation='relu'))\n",
        "model2.add(layers.MaxPooling2D((2, 2)))\n",
        "model2.add(layers.Conv2D(64, (3, 3), activation='relu'))"
      ],
      "execution_count": null,
      "outputs": []
    },
    {
      "cell_type": "code",
      "metadata": {
        "id": "9HUs0GJB90hU",
        "colab": {
          "base_uri": "https://localhost:8080/"
        },
        "outputId": "e5bf5e2f-f941-4139-83d5-c8988c9a6098"
      },
      "source": [
        "model2.summary()"
      ],
      "execution_count": null,
      "outputs": [
        {
          "output_type": "stream",
          "name": "stdout",
          "text": [
            "Model: \"sequential_2\"\n",
            "_________________________________________________________________\n",
            " Layer (type)                Output Shape              Param #   \n",
            "=================================================================\n",
            " conv2d (Conv2D)             (None, 26, 26, 32)        320       \n",
            "                                                                 \n",
            " max_pooling2d (MaxPooling2D  (None, 13, 13, 32)       0         \n",
            " )                                                               \n",
            "                                                                 \n",
            " conv2d_1 (Conv2D)           (None, 11, 11, 64)        18496     \n",
            "                                                                 \n",
            " max_pooling2d_1 (MaxPooling  (None, 5, 5, 64)         0         \n",
            " 2D)                                                             \n",
            "                                                                 \n",
            " conv2d_2 (Conv2D)           (None, 3, 3, 64)          36928     \n",
            "                                                                 \n",
            "=================================================================\n",
            "Total params: 55,744\n",
            "Trainable params: 55,744\n",
            "Non-trainable params: 0\n",
            "_________________________________________________________________\n"
          ]
        }
      ]
    },
    {
      "cell_type": "markdown",
      "metadata": {
        "id": "mN7Kl93h90hX"
      },
      "source": [
        "Now add a classifier on top of the convnet."
      ]
    },
    {
      "cell_type": "code",
      "metadata": {
        "id": "vbakYMPl90hY"
      },
      "source": [
        "model2.add(layers.Flatten())\n",
        "model2.add(layers.Dense(64, activation='relu'))\n",
        "model2.add(layers.Dense(10, activation='softmax'))"
      ],
      "execution_count": null,
      "outputs": []
    },
    {
      "cell_type": "code",
      "metadata": {
        "id": "fNFviRYS90hb",
        "colab": {
          "base_uri": "https://localhost:8080/"
        },
        "outputId": "bda89074-00be-457e-ac6a-83996e804605"
      },
      "source": [
        "model2.summary()"
      ],
      "execution_count": null,
      "outputs": [
        {
          "output_type": "stream",
          "name": "stdout",
          "text": [
            "Model: \"sequential_2\"\n",
            "_________________________________________________________________\n",
            " Layer (type)                Output Shape              Param #   \n",
            "=================================================================\n",
            " conv2d (Conv2D)             (None, 26, 26, 32)        320       \n",
            "                                                                 \n",
            " max_pooling2d (MaxPooling2D  (None, 13, 13, 32)       0         \n",
            " )                                                               \n",
            "                                                                 \n",
            " conv2d_1 (Conv2D)           (None, 11, 11, 64)        18496     \n",
            "                                                                 \n",
            " max_pooling2d_1 (MaxPooling  (None, 5, 5, 64)         0         \n",
            " 2D)                                                             \n",
            "                                                                 \n",
            " conv2d_2 (Conv2D)           (None, 3, 3, 64)          36928     \n",
            "                                                                 \n",
            " flatten (Flatten)           (None, 576)               0         \n",
            "                                                                 \n",
            " dense_4 (Dense)             (None, 64)                36928     \n",
            "                                                                 \n",
            " dense_5 (Dense)             (None, 10)                650       \n",
            "                                                                 \n",
            "=================================================================\n",
            "Total params: 93,322\n",
            "Trainable params: 93,322\n",
            "Non-trainable params: 0\n",
            "_________________________________________________________________\n"
          ]
        }
      ]
    },
    {
      "cell_type": "code",
      "metadata": {
        "id": "4MSKgh9o90hf"
      },
      "source": [
        "train_images_conv = train_images.reshape((60000, 28, 28, 1))\n",
        "train_images_conv = train_images_conv.astype('float32') / 255\n",
        "test_images_conv = test_images.reshape((10000, 28, 28, 1))\n",
        "test_images_conv = test_images_conv.astype('float32') / 255"
      ],
      "execution_count": null,
      "outputs": []
    },
    {
      "cell_type": "code",
      "metadata": {
        "id": "9PMxDGQ390hh"
      },
      "source": [
        "model2.compile(optimizer='rmsprop',\n",
        "loss='categorical_crossentropy',\n",
        "metrics=['accuracy'])"
      ],
      "execution_count": null,
      "outputs": []
    },
    {
      "cell_type": "code",
      "metadata": {
        "id": "8y3UcZ9V90hk",
        "colab": {
          "base_uri": "https://localhost:8080/"
        },
        "outputId": "20210ffd-c122-46b8-8b63-a551986693ec"
      },
      "source": [
        "model2.fit(train_images_conv, train_labels, epochs=15, batch_size=64)"
      ],
      "execution_count": null,
      "outputs": [
        {
          "output_type": "stream",
          "text": [
            "Train on 60000 samples\n",
            "Epoch 1/15\n",
            "60000/60000 [==============================] - 8s 128us/sample - loss: 0.0148 - accuracy: 0.9954\n",
            "Epoch 2/15\n",
            "60000/60000 [==============================] - 7s 121us/sample - loss: 0.0125 - accuracy: 0.9960\n",
            "Epoch 3/15\n",
            "60000/60000 [==============================] - 7s 121us/sample - loss: 0.0101 - accuracy: 0.9968\n",
            "Epoch 4/15\n",
            "60000/60000 [==============================] - 7s 121us/sample - loss: 0.0082 - accuracy: 0.9974\n",
            "Epoch 5/15\n",
            "60000/60000 [==============================] - 7s 121us/sample - loss: 0.0078 - accuracy: 0.9977\n",
            "Epoch 6/15\n",
            "60000/60000 [==============================] - 7s 121us/sample - loss: 0.0069 - accuracy: 0.9980\n",
            "Epoch 7/15\n",
            "60000/60000 [==============================] - 7s 122us/sample - loss: 0.0059 - accuracy: 0.9981\n",
            "Epoch 8/15\n",
            "60000/60000 [==============================] - 7s 121us/sample - loss: 0.0054 - accuracy: 0.9985\n",
            "Epoch 9/15\n",
            "60000/60000 [==============================] - 7s 121us/sample - loss: 0.0043 - accuracy: 0.9987\n",
            "Epoch 10/15\n",
            "60000/60000 [==============================] - 7s 120us/sample - loss: 0.0043 - accuracy: 0.9987\n",
            "Epoch 11/15\n",
            "60000/60000 [==============================] - 7s 120us/sample - loss: 0.0047 - accuracy: 0.9987\n",
            "Epoch 12/15\n",
            "60000/60000 [==============================] - 7s 120us/sample - loss: 0.0038 - accuracy: 0.9990\n",
            "Epoch 13/15\n",
            "60000/60000 [==============================] - 7s 121us/sample - loss: 0.0034 - accuracy: 0.9990\n",
            "Epoch 14/15\n",
            "60000/60000 [==============================] - 7s 120us/sample - loss: 0.0031 - accuracy: 0.9992\n",
            "Epoch 15/15\n",
            "60000/60000 [==============================] - 7s 120us/sample - loss: 0.0027 - accuracy: 0.9993\n"
          ],
          "name": "stdout"
        },
        {
          "output_type": "execute_result",
          "data": {
            "text/plain": [
              "<tensorflow.python.keras.callbacks.History at 0x7fd35cc20490>"
            ]
          },
          "metadata": {
            "tags": []
          },
          "execution_count": 40
        }
      ]
    },
    {
      "cell_type": "code",
      "metadata": {
        "id": "S-jm1s4h90hm",
        "colab": {
          "base_uri": "https://localhost:8080/"
        },
        "outputId": "3d2525be-19c9-4780-b977-6d7666c6444a"
      },
      "source": [
        "test_loss, test_acc = model2.evaluate(test_images_conv, test_labels)\n",
        "print(test_acc)"
      ],
      "execution_count": null,
      "outputs": [
        {
          "output_type": "stream",
          "text": [
            "0.993\n"
          ],
          "name": "stdout"
        }
      ]
    },
    {
      "cell_type": "markdown",
      "metadata": {
        "id": "ycfhtY8V90hr"
      },
      "source": [
        "## Introducing Fashion MNIST (Homework dataset)\n",
        "\n",
        "---\n",
        "\n"
      ]
    },
    {
      "cell_type": "markdown",
      "metadata": {
        "id": "PhfO9tQo90ht"
      },
      "source": [
        "The MNIST dataset is not too demanding, let's try something a little more difficult - Fashion MNIST.\n",
        "\n",
        "[LINK TO IMAGE](https://s3-eu-central-1.amazonaws.com/zalando-wp-zalando-research-production/2017/08/fashion-mnist-sprite.png)\n",
        "\n",
        "Check out labels on [GitHub](https://github.com/zalandoresearch/fashion-mnist)"
      ]
    },
    {
      "cell_type": "code",
      "metadata": {
        "id": "d3gRcQAp90hu",
        "colab": {
          "base_uri": "https://localhost:8080/"
        },
        "outputId": "810ca5aa-db7a-4fee-f57b-e4816b6052fe"
      },
      "source": [
        "(train_imgs_fash, train_labels_fash), (test_imgs_fash, test_labels_fash) = keras.datasets.fashion_mnist.load_data()"
      ],
      "execution_count": null,
      "outputs": [
        {
          "output_type": "stream",
          "text": [
            "Downloading data from https://storage.googleapis.com/tensorflow/tf-keras-datasets/train-labels-idx1-ubyte.gz\n",
            "32768/29515 [=================================] - 0s 0us/step\n",
            "Downloading data from https://storage.googleapis.com/tensorflow/tf-keras-datasets/train-images-idx3-ubyte.gz\n",
            "26427392/26421880 [==============================] - 1s 0us/step\n",
            "Downloading data from https://storage.googleapis.com/tensorflow/tf-keras-datasets/t10k-labels-idx1-ubyte.gz\n",
            "8192/5148 [===============================================] - 0s 0us/step\n",
            "Downloading data from https://storage.googleapis.com/tensorflow/tf-keras-datasets/t10k-images-idx3-ubyte.gz\n",
            "4423680/4422102 [==============================] - 0s 0us/step\n"
          ],
          "name": "stdout"
        }
      ]
    },
    {
      "cell_type": "code",
      "metadata": {
        "id": "66hmALN-90hy",
        "colab": {
          "base_uri": "https://localhost:8080/"
        },
        "outputId": "a7840f8c-8112-4587-ae9a-1e47c1de7b94"
      },
      "source": [
        "train_imgs_fash.shape"
      ],
      "execution_count": null,
      "outputs": [
        {
          "output_type": "execute_result",
          "data": {
            "text/plain": [
              "(60000, 28, 28)"
            ]
          },
          "metadata": {
            "tags": []
          },
          "execution_count": 34
        }
      ]
    },
    {
      "cell_type": "code",
      "metadata": {
        "id": "-b9WQiXa90h3",
        "colab": {
          "base_uri": "https://localhost:8080/",
          "height": 282
        },
        "outputId": "abd16af1-b5d4-45ea-da87-a4bca495cd53"
      },
      "source": [
        "plt.imshow(train_imgs_fash[12],  cmap=plt.get_cmap('gray'))"
      ],
      "execution_count": null,
      "outputs": [
        {
          "output_type": "execute_result",
          "data": {
            "text/plain": [
              "<matplotlib.image.AxesImage at 0x7fd36038a850>"
            ]
          },
          "metadata": {
            "tags": []
          },
          "execution_count": 36
        },
        {
          "output_type": "display_data",
          "data": {
            "image/png": "[encoded data removed]",
            "text/plain": [
              "<Figure size 432x288 with 1 Axes>"
            ]
          },
          "metadata": {
            "tags": [],
            "needs_background": "light"
          }
        }
      ]
    },
    {
      "cell_type": "markdown",
      "metadata": {
        "id": "a-TD49dV90h8"
      },
      "source": [
        "# **HOMEWORK 1**\n",
        "Build a classifier for fashion MNIST.\n",
        "\n",
        "**1. Use exactly the same architectures (both densely connected layers and from convolutional layers) as the above MNIST** e.g., replace the dataset. Save the Jupyter Notebook in its original format and output a PDF file after training, testing, and validation. Make sure to write down how do they perform (training accuracny, testing accuracy).  \n",
        "**2. Improve the architecture**. Experiment with different numbers of layers, size of layers, number of filters, size of filters. You are required to make those adjustment to get the highest accuracy. Watch out for overfitting -- we want the highest testing accuracy!\n",
        "Please provide a PDF file of the result, the best test accuracy and the architecture (different numbers of layers, size of layers, number of filters, size of filters)"
      ]
    },
    {
      "cell_type": "markdown",
      "metadata": {
        "id": "iF7jbAo190h_"
      },
      "source": [
        "# Visualizing Filter Response"
      ]
    },
    {
      "cell_type": "markdown",
      "metadata": {
        "id": "0a_1UfhB90iA"
      },
      "source": [
        "We use gradient descent in input space to display the visual pattern each filter is maximally responsive to.  \n",
        "To this end we take a VGG19 convnet pretrained on the ImageNet dataset.\n",
        "\n",
        "[Very Deep Convolutional Networks for Large-Scale Image Recognition](https://arxiv.org/abs/1409.1556)\n",
        "Karen Simonyan, Andrew Zisserman\n",
        "\n",
        "[DL Architecture](https://neurohive.io/wp-content/uploads/2018/11/vgg16-neural-network.jpg)"
      ]
    },
    {
      "cell_type": "code",
      "metadata": {
        "id": "y6suhQFt90iB",
        "colab": {
          "base_uri": "https://localhost:8080/"
        },
        "outputId": "d246064f-b61a-4e9c-9627-253eb9f9c0bd"
      },
      "source": [
        "from tensorflow.keras.applications import VGG19\n",
        "from tensorflow.keras import backend as K\n",
        "import numpy as np\n",
        "\n",
        "import matplotlib.pyplot as plt\n",
        "\n",
        "#Load pretrained model\n",
        "#we omit the densely connected layers of the network\n",
        "model = VGG19(weights='imagenet', include_top=False)"
      ],
      "execution_count": null,
      "outputs": [
        {
          "output_type": "stream",
          "text": [
            "Downloading data from https://storage.googleapis.com/tensorflow/keras-applications/vgg19/vgg19_weights_tf_dim_ordering_tf_kernels_notop.h5\n",
            "80142336/80134624 [==============================] - 2s 0us/step\n"
          ],
          "name": "stdout"
        }
      ]
    },
    {
      "cell_type": "code",
      "metadata": {
        "id": "owECwwDw90iD",
        "colab": {
          "base_uri": "https://localhost:8080/"
        },
        "outputId": "45c4261f-dee1-4e7b-cf06-15c8c248b67c"
      },
      "source": [
        "model.summary()"
      ],
      "execution_count": null,
      "outputs": [
        {
          "output_type": "stream",
          "text": [
            "Model: \"vgg19\"\n",
            "_________________________________________________________________\n",
            "Layer (type)                 Output Shape              Param #   \n",
            "=================================================================\n",
            "input_1 (InputLayer)         [(None, None, None, 3)]   0         \n",
            "_________________________________________________________________\n",
            "block1_conv1 (Conv2D)        (None, None, None, 64)    1792      \n",
            "_________________________________________________________________\n",
            "block1_conv2 (Conv2D)        (None, None, None, 64)    36928     \n",
            "_________________________________________________________________\n",
            "block1_pool (MaxPooling2D)   (None, None, None, 64)    0         \n",
            "_________________________________________________________________\n",
            "block2_conv1 (Conv2D)        (None, None, None, 128)   73856     \n",
            "_________________________________________________________________\n",
            "block2_conv2 (Conv2D)        (None, None, None, 128)   147584    \n",
            "_________________________________________________________________\n",
            "block2_pool (MaxPooling2D)   (None, None, None, 128)   0         \n",
            "_________________________________________________________________\n",
            "block3_conv1 (Conv2D)        (None, None, None, 256)   295168    \n",
            "_________________________________________________________________\n",
            "block3_conv2 (Conv2D)        (None, None, None, 256)   590080    \n",
            "_________________________________________________________________\n",
            "block3_conv3 (Conv2D)        (None, None, None, 256)   590080    \n",
            "_________________________________________________________________\n",
            "block3_conv4 (Conv2D)        (None, None, None, 256)   590080    \n",
            "_________________________________________________________________\n",
            "block3_pool (MaxPooling2D)   (None, None, None, 256)   0         \n",
            "_________________________________________________________________\n",
            "block4_conv1 (Conv2D)        (None, None, None, 512)   1180160   \n",
            "_________________________________________________________________\n",
            "block4_conv2 (Conv2D)        (None, None, None, 512)   2359808   \n",
            "_________________________________________________________________\n",
            "block4_conv3 (Conv2D)        (None, None, None, 512)   2359808   \n",
            "_________________________________________________________________\n",
            "block4_conv4 (Conv2D)        (None, None, None, 512)   2359808   \n",
            "_________________________________________________________________\n",
            "block4_pool (MaxPooling2D)   (None, None, None, 512)   0         \n",
            "_________________________________________________________________\n",
            "block5_conv1 (Conv2D)        (None, None, None, 512)   2359808   \n",
            "_________________________________________________________________\n",
            "block5_conv2 (Conv2D)        (None, None, None, 512)   2359808   \n",
            "_________________________________________________________________\n",
            "block5_conv3 (Conv2D)        (None, None, None, 512)   2359808   \n",
            "_________________________________________________________________\n",
            "block5_conv4 (Conv2D)        (None, None, None, 512)   2359808   \n",
            "_________________________________________________________________\n",
            "block5_pool (MaxPooling2D)   (None, None, None, 512)   0         \n",
            "=================================================================\n",
            "Total params: 20,024,384\n",
            "Trainable params: 20,024,384\n",
            "Non-trainable params: 0\n",
            "_________________________________________________________________\n"
          ],
          "name": "stdout"
        }
      ]
    },
    {
      "cell_type": "code",
      "metadata": {
        "id": "8JKPG6eK90iH"
      },
      "source": [
        "#Specify filter you want to visualize and get its output\n",
        "layer_name = 'block5_conv3'\n",
        "filter_index = 3\n",
        "layer_output = model.get_layer(layer_name).output\n",
        "\n",
        "#Loss is the averaged activation of the chosen filter\n",
        "loss = K.mean(layer_output[:, :, :, filter_index])"
      ],
      "execution_count": null,
      "outputs": []
    },
    {
      "cell_type": "code",
      "metadata": {
        "id": "dw76qkCR90iJ"
      },
      "source": [
        "#Gradients of loss with respect to the input\n",
        "#upgrading to 2.x: tf.gradients is no longer supported\n",
        "#requiring tf.compat.v1.disable_eager_execution()\n",
        "grads = K.gradients(loss, model.input)[0]\n",
        "\n",
        "#A trick is to normalize the gradients by their L2 norm\n",
        "#This ensures that the magnitude of the gradients is always in the same range\n",
        "#and leads to a smooth descent process\n",
        "grads /= (K.sqrt(K.mean(K.square(grads))) + 1e-5)"
      ],
      "execution_count": null,
      "outputs": []
    },
    {
      "cell_type": "code",
      "metadata": {
        "id": "vDEEa6Me90iM"
      },
      "source": [
        "#The tensors defined so far (loss, grads) were symbolic\n",
        "#To obtain values we need to feed an input via K.function\n",
        "\n",
        "iterate = K.function([model.input], [loss, grads])\n",
        "loss_value, grads_value = iterate([np.zeros((1, 150, 150, 3))])"
      ],
      "execution_count": null,
      "outputs": []
    },
    {
      "cell_type": "code",
      "metadata": {
        "id": "4V5VQs1U90iO",
        "colab": {
          "base_uri": "https://localhost:8080/"
        },
        "outputId": "a355b7ef-8f0b-414d-811a-897ecac7b465"
      },
      "source": [
        "print(grads)\n",
        "print(grads_value)"
      ],
      "execution_count": null,
      "outputs": [
        {
          "output_type": "stream",
          "text": [
            "Tensor(\"truediv_2:0\", shape=(None, None, None, 3), dtype=float32)\n",
            "[[[[0. 0. 0.]\n",
            "   [0. 0. 0.]\n",
            "   [0. 0. 0.]\n",
            "   ...\n",
            "   [0. 0. 0.]\n",
            "   [0. 0. 0.]\n",
            "   [0. 0. 0.]]\n",
            "\n",
            "  [[0. 0. 0.]\n",
            "   [0. 0. 0.]\n",
            "   [0. 0. 0.]\n",
            "   ...\n",
            "   [0. 0. 0.]\n",
            "   [0. 0. 0.]\n",
            "   [0. 0. 0.]]\n",
            "\n",
            "  [[0. 0. 0.]\n",
            "   [0. 0. 0.]\n",
            "   [0. 0. 0.]\n",
            "   ...\n",
            "   [0. 0. 0.]\n",
            "   [0. 0. 0.]\n",
            "   [0. 0. 0.]]\n",
            "\n",
            "  ...\n",
            "\n",
            "  [[0. 0. 0.]\n",
            "   [0. 0. 0.]\n",
            "   [0. 0. 0.]\n",
            "   ...\n",
            "   [0. 0. 0.]\n",
            "   [0. 0. 0.]\n",
            "   [0. 0. 0.]]\n",
            "\n",
            "  [[0. 0. 0.]\n",
            "   [0. 0. 0.]\n",
            "   [0. 0. 0.]\n",
            "   ...\n",
            "   [0. 0. 0.]\n",
            "   [0. 0. 0.]\n",
            "   [0. 0. 0.]]\n",
            "\n",
            "  [[0. 0. 0.]\n",
            "   [0. 0. 0.]\n",
            "   [0. 0. 0.]\n",
            "   ...\n",
            "   [0. 0. 0.]\n",
            "   [0. 0. 0.]\n",
            "   [0. 0. 0.]]]]\n"
          ],
          "name": "stdout"
        }
      ]
    },
    {
      "cell_type": "code",
      "metadata": {
        "id": "DtnoFXr890iT"
      },
      "source": [
        "#Implement the actual gradient descent\n",
        "#Initial input is a grey image with some noise\n",
        "\n",
        "input_img_data = np.random.random((1, 150, 150, 3)) * 20 + 128.\n",
        "step = 1.\n",
        "for i in range(40):\n",
        "    loss_value, grads_value = iterate([input_img_data])\n",
        "    input_img_data += grads_value * step"
      ],
      "execution_count": null,
      "outputs": []
    },
    {
      "cell_type": "code",
      "metadata": {
        "colab": {
          "base_uri": "https://localhost:8080/"
        },
        "id": "PA598GAg_bPq",
        "outputId": "a10528e5-eaee-4bb2-cd4c-097ab62c6910"
      },
      "source": [
        "print(grads_value)"
      ],
      "execution_count": null,
      "outputs": [
        {
          "output_type": "stream",
          "text": [
            "[[[[ 9.97152254e-02  1.15048386e-01 -2.69899121e-03]\n",
            "   [ 3.23579997e-01  4.20309186e-01  1.07420631e-01]\n",
            "   [ 3.24061096e-01  4.56101000e-01 -7.67759979e-03]\n",
            "   ...\n",
            "   [ 1.99717041e-02 -1.21349931e-01 -4.65045188e-04]\n",
            "   [ 4.29279404e-03 -8.80670622e-02 -2.62066778e-02]\n",
            "   [-1.47136394e-02 -6.17758036e-02 -3.91752012e-02]]\n",
            "\n",
            "  [[ 1.29222095e-01  1.65464804e-01 -3.51907089e-02]\n",
            "   [ 5.36024988e-01  7.20059395e-01  1.89232856e-01]\n",
            "   [ 5.94003022e-01  8.63480031e-01  4.85475659e-02]\n",
            "   ...\n",
            "   [ 7.72413611e-02 -1.77491769e-01  4.61716354e-02]\n",
            "   [ 5.97696751e-02 -9.46483463e-02  8.40875320e-03]\n",
            "   [-2.07268924e-04 -7.79593289e-02 -4.47840653e-02]]\n",
            "\n",
            "  [[-2.77175289e-02  4.48635556e-02 -1.58068866e-01]\n",
            "   [ 1.70666710e-01  3.91091615e-01 -1.21175304e-01]\n",
            "   [ 1.27361849e-01  4.28600669e-01 -3.53716522e-01]\n",
            "   ...\n",
            "   [ 1.38838172e-01 -1.64416119e-01  8.57844055e-02]\n",
            "   [ 1.57694414e-01 -2.64713876e-02  7.17572123e-02]\n",
            "   [ 3.70272584e-02 -5.33618480e-02 -3.31361666e-02]]\n",
            "\n",
            "  ...\n",
            "\n",
            "  [[ 3.21245119e-02 -6.79701492e-02 -4.61483002e-02]\n",
            "   [ 2.72529632e-01  2.25792781e-01  2.05425873e-01]\n",
            "   [ 3.71951312e-01  4.65203643e-01  3.85475755e-01]\n",
            "   ...\n",
            "   [-8.81438889e-03 -5.31282425e-02  6.22348022e-03]\n",
            "   [-3.30192931e-02 -8.94459188e-02 -2.58603562e-02]\n",
            "   [-3.86842620e-03 -3.05616986e-02  4.38722922e-03]]\n",
            "\n",
            "  [[ 9.85285174e-03 -5.86222410e-02 -4.35526110e-02]\n",
            "   [ 1.23410560e-01  9.23983604e-02  8.18824619e-02]\n",
            "   [ 1.57332718e-01  2.24826545e-01  1.73948333e-01]\n",
            "   ...\n",
            "   [ 7.22053126e-02  5.85767813e-02  1.01088755e-01]\n",
            "   [ 2.38082628e-03 -3.03424690e-02  1.77785978e-02]\n",
            "   [ 6.82197651e-03 -1.21242683e-02  1.55995544e-02]]\n",
            "\n",
            "  [[ 5.62443398e-03 -3.38196419e-02 -1.84177272e-02]\n",
            "   [ 5.38835041e-02  3.39241251e-02  3.92526798e-02]\n",
            "   [ 6.57473579e-02  9.87930298e-02  8.09469298e-02]\n",
            "   ...\n",
            "   [ 5.01438715e-02  5.31616136e-02  7.26004541e-02]\n",
            "   [ 1.47035671e-02  4.28656721e-03  2.78089717e-02]\n",
            "   [ 1.02264518e-02  2.88743456e-03  1.68758892e-02]]]]\n"
          ],
          "name": "stdout"
        }
      ]
    },
    {
      "cell_type": "code",
      "metadata": {
        "id": "N_DKEHil90iW"
      },
      "source": [
        "#Postprocess to turn into displayable image\n",
        "\n",
        "def deprocess_image(x):\n",
        "    x -= x.mean()\n",
        "    x /= (x.std() + 1e-5)\n",
        "    x *= 0.1\n",
        "\n",
        "    x += 0.5\n",
        "    x = np.clip(x, 0, 1)\n",
        "\n",
        "    x *= 255\n",
        "    x = np.clip(x, 0, 255).astype('uint8')\n",
        "    return x"
      ],
      "execution_count": null,
      "outputs": []
    },
    {
      "cell_type": "code",
      "metadata": {
        "id": "cFItEN0J90iY",
        "colab": {
          "base_uri": "https://localhost:8080/",
          "height": 286
        },
        "outputId": "2b5f8395-e062-4285-a75c-0c88408e6fc5"
      },
      "source": [
        "plt.imshow(deprocess_image(input_img_data[0]))"
      ],
      "execution_count": null,
      "outputs": [
        {
          "output_type": "execute_result",
          "data": {
            "text/plain": [
              "<matplotlib.image.AxesImage at 0x7fd3c4cf57d0>"
            ]
          },
          "metadata": {
            "tags": []
          },
          "execution_count": 66
        },
        {
          "output_type": "display_data",
          "data": {
            "image/png": "[encoded data removed]",
            "text/plain": [
              "<Figure size 432x288 with 1 Axes>"
            ]
          },
          "metadata": {
            "tags": [],
            "needs_background": "light"
          }
        }
      ]
    }
  ]
}